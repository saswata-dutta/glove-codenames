{
 "cells": [
  {
   "cell_type": "code",
   "execution_count": 2,
   "source": [
    "import numpy as np\n",
    "import pandas as pd\n",
    "from scipy import spatial\n",
    "from itertools import zip_longest\n",
    "from IPython.display import HTML\n",
    "\n"
   ],
   "outputs": [],
   "metadata": {}
  },
  {
   "cell_type": "code",
   "execution_count": 3,
   "source": [
    "USE_FULL = False\n",
    "INPUT_GLOVE = \"./glove.42B.300d.txt\" if USE_FULL else \"./top_50000.txt\"\n"
   ],
   "outputs": [],
   "metadata": {}
  },
  {
   "cell_type": "code",
   "execution_count": 4,
   "source": [
    "embeddings = {}\n",
    "with open(INPUT_GLOVE, 'r') as f:\n",
    "    for line in f:\n",
    "        values = line.split()\n",
    "        word = values[0]\n",
    "        vector = np.asarray(values[1:], \"float32\")\n",
    "        embeddings[word] = vector\n"
   ],
   "outputs": [],
   "metadata": {}
  },
  {
   "cell_type": "code",
   "execution_count": 5,
   "source": [
    "def distance(word, reference):\n",
    "    return spatial.distance.cosine(embeddings[word], embeddings[reference])\n",
    "\n",
    "def closest_words(reference):\n",
    "    return sorted(embeddings.keys(), key=lambda w: distance(w, reference))\n"
   ],
   "outputs": [],
   "metadata": {}
  },
  {
   "cell_type": "code",
   "execution_count": 32,
   "source": [
    "\n",
    "def goodness(word, answers, bad):\n",
    "    if word in answers | bad: return -999\n",
    "    return sum([distance(word, b) for b in bad]) - 4.0 * sum([distance(word, a) for a in answers])\n",
    "\n",
    "def minimax(word, answers, bad):\n",
    "    if word in answers | bad: return -999\n",
    "    return min([distance(word, b) for b in bad]) - max([distance(word, a) for a in answers])\n",
    "\n",
    "def candidates(answers, bad, size=100):\n",
    "    best = sorted(embeddings.keys(), key=lambda w: -1 * goodness(w, answers, bad))\n",
    "    scored_best = sorted([(-1 * minimax(w, answers, bad), w) for w in best[:250]])[:size]\n",
    "    res = [f\"{i}. {w} ({s:.2f})\" for i, (s, w) in enumerate(scored_best)]\n",
    "\n",
    "    return res"
   ],
   "outputs": [],
   "metadata": {}
  },
  {
   "cell_type": "code",
   "execution_count": 33,
   "source": [
    "def grouper(n, iterable, fillvalue=None):\n",
    "    args = [iter(iterable)] * n\n",
    "    return zip_longest(fillvalue=fillvalue, *args)\n",
    "\n",
    "def tabulate(data, width=10):\n",
    "    data = list(grouper(width, data))\n",
    "    return HTML(pd.DataFrame(data).to_html(index=False, header=False))"
   ],
   "outputs": [],
   "metadata": {}
  },
  {
   "cell_type": "code",
   "execution_count": 34,
   "source": [
    "answers = set(\"coffee cowboy sack code\".lower().split())\n",
    "bad = set(\"port violet olympus farm spike stock hotel scuba diver\".lower().split())\n",
    "\n",
    "\n",
    "tabulate(candidates(answers, bad, 10), 5)\n"
   ],
   "outputs": [
    {
     "output_type": "execute_result",
     "data": {
      "text/html": [
       "<table border=\"1\" class=\"dataframe\">\n",
       "  <tbody>\n",
       "    <tr>\n",
       "      <td>0. swag (-0.06)</td>\n",
       "      <td>1. sloppy (-0.05)</td>\n",
       "      <td>2. dirty (-0.03)</td>\n",
       "      <td>3. mess (0.01)</td>\n",
       "      <td>4. monkey (0.02)</td>\n",
       "    </tr>\n",
       "    <tr>\n",
       "      <td>5. lazy (0.02)</td>\n",
       "      <td>6. shirt (0.02)</td>\n",
       "      <td>7. joke (0.03)</td>\n",
       "      <td>8. damn (0.03)</td>\n",
       "      <td>9. hate (0.03)</td>\n",
       "    </tr>\n",
       "  </tbody>\n",
       "</table>"
      ],
      "text/plain": [
       "<IPython.core.display.HTML object>"
      ]
     },
     "metadata": {},
     "execution_count": 34
    }
   ],
   "metadata": {}
  },
  {
   "cell_type": "code",
   "execution_count": null,
   "source": [],
   "outputs": [],
   "metadata": {}
  }
 ],
 "metadata": {
  "orig_nbformat": 4,
  "language_info": {
   "name": "python",
   "version": "3.9.1",
   "mimetype": "text/x-python",
   "codemirror_mode": {
    "name": "ipython",
    "version": 3
   },
   "pygments_lexer": "ipython3",
   "nbconvert_exporter": "python",
   "file_extension": ".py"
  },
  "kernelspec": {
   "name": "python3",
   "display_name": "Python 3.9.1 64-bit ('3.9.1': pyenv)"
  },
  "interpreter": {
   "hash": "cbb0085886f5b86ca35a94206b897c395dba46e93c4fb7fd6509f5cb96a12c8c"
  }
 },
 "nbformat": 4,
 "nbformat_minor": 2
}